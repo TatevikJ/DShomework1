{
 "cells": [
  {
   "cell_type": "code",
   "execution_count": null,
   "metadata": {},
   "outputs": [],
   "source": [
    "# There is no need to run this chunk of code.\n",
    "import os\n",
    "wd=''\n",
    "os.chdir(wd)\n",
    "%run HW1_solutions.ipynb"
   ]
  },
  {
   "cell_type": "markdown",
   "metadata": {},
   "source": [
    "## Homework 1 Submission\n",
    "Write your name and surname below:\n",
    "<br>\n",
    "Name:Tatevik\n",
    "<br>\n",
    "Surname:Jalatyan"
   ]
  },
  {
   "cell_type": "markdown",
   "metadata": {},
   "source": [
    "***Problem 1:*** <br> Write a program that: <br>\n",
    "a. compares the lengths of two texts given below (i.e. the number of characters in each text) <br>\n",
    "b. compares the numbers of words in each text<br>\n",
    "c. calculates the frequency of each word (the number of times the word appears in the text) in each text and puts them in a dictionary <br>\n",
    "d. prints the number of unique words used in each text as a dictionary.\n",
    "<br>\n",
    "Example 1: {\"The legth of text a\": 487,\"The legth of text b\": 562}<br>\n",
    "Example 2: Word frequency- {\"Jovi\":2,\"in\": 4}\n"
   ]
  },
  {
   "cell_type": "code",
   "execution_count": 14,
   "metadata": {},
   "outputs": [
    {
     "name": "stdout",
     "output_type": "stream",
     "text": [
      "True\n",
      "326\n",
      "The length of text a:52\n",
      "The length of text b:53\n",
      "False\n",
      "{'Bon': 2, 'Jovi': 1, 'is': 1, 'an': 1, 'American': 1, 'rock': 1, 'band': 1, 'formed': 1, 'in': 4, '1983': 1, 'Sayreville,': 1, 'New': 1, 'Jersey.': 1, 'It': 1, 'consists': 1, 'of': 1, 'singer': 1, 'Jon': 1, 'Jovi,': 1, 'keyboardist': 1, 'David': 1, 'Bryan,': 1, 'drummer': 1, 'Tico': 1, 'Torres,': 1, 'guitarist': 2, 'PhilX,': 1, 'and': 3, 'bassist': 2, 'Hugh': 1, 'McDonald.': 1, 'Previous': 1, 'Alec': 1, 'John': 1, 'Such': 1, 'was': 1, 'dismissed': 1, '1994,': 1, 'longtime': 1, 'co-songwriter': 1, 'Richie': 1, 'Sambora': 1, 'left': 1, '2013.': 1}\n",
      "{'Ronald': 3, 'Wilson': 3, 'Reagan': 3, '(/ˈreɪɡən/;': 3, 'February': 3, '6,': 3, '1911': 3, '–': 3, 'June': 3, '5,': 3, '2004)': 3, 'was': 3, 'an': 3, 'American': 3, 'politician': 3, 'who': 3, 'served': 3, 'as': 3, 'the': 3, '40th': 3, 'president': 3, 'of': 3, 'United': 3, 'States': 3, 'from': 3, '1981': 3, 'to': 3, '1989.': 3, 'Prior': 3, 'his': 3, 'presidency,': 3, 'he': 3, 'a': 3, 'Hollywood': 3, 'actor': 3, 'and': 3, 'union': 3, 'leader': 3, 'before': 3, 'serving': 3, '33rd': 3, 'governor': 3, 'California': 3, '1967': 3, '1975.': 3}\n",
      "unique word number in a:44\n",
      "unique word number in b:45\n",
      "{'of', 'bassist', 'John', 'rock', 'David', '1994,', 'Alec', 'New', 'Jon', 'American', 'was', 'McDonald.', 'singer', 'and', 'left', 'dismissed', 'longtime', 'band', 'Jovi', 'Torres,', 'It', 'an', 'formed', 'is', 'drummer', 'consists', 'Hugh', 'Jovi,', 'Previous', 'Sambora', 'Such', 'co-songwriter', 'Richie', 'Bryan,', 'Tico', 'in', '1983', 'Sayreville,', '2013.', 'Bon', 'keyboardist', 'guitarist', 'PhilX,', 'Jersey.'}\n"
     ]
    }
   ],
   "source": [
    "###_____________Start code here_________________###\n",
    "a = 'Bon Jovi is an American rock band formed in 1983 in Sayreville, New Jersey. \\\n",
    "It consists of singer Jon Bon Jovi, keyboardist David Bryan, drummer Tico Torres, \\\n",
    "guitarist PhilX, and bassist Hugh McDonald. Previous bassist Alec John Such was \\\n",
    "dismissed in 1994, and longtime guitarist and co-songwriter Richie Sambora left in 2013.'\n",
    "\n",
    "b = \"Ronald Wilson Reagan (/ˈreɪɡən/; February 6, 1911 – June 5, 2004) \\\n",
    "was an American politician who served as the 40th president of the United \\\n",
    "States from 1981 to 1989. Prior to his presidency, he was a Hollywood actor \\\n",
    "and union leader before serving as the 33rd governor of California from 1967 to 1975.\"\n",
    "#a\n",
    "print(len(a) >= len(b)) \n",
    "print(len(a))\n",
    "#b\n",
    "print(\"The length of text a:\" + str(len(a.split())))\n",
    "print(\"The length of text b:\" + str(len(b.split())))\n",
    "print(len(a.split())>=len(b.split()))\n",
    "#c\n",
    "\n",
    "a1=a.split()\n",
    "b1=b.split()\n",
    "c={}\n",
    "d={}\n",
    "for i in range(len(a1)):\n",
    "    count1=a1.count(a1[i])\n",
    "    c[a1[i]]=count1\n",
    "print(c)\n",
    "\n",
    "for j in range(len(b1)):\n",
    "    count2=b1.count(b1[i])\n",
    "    d[b1[j]]=count2\n",
    "print(d)  \n",
    "\n",
    "#d\n",
    "print(\"unique word number in a:\"+str(len(set(a1))))\n",
    "print(\"unique word number in b:\"+str(len(set(b1))))\n",
    "\n",
    "\n",
    "\n",
    "\n",
    "###_____________End code here_________________###"
   ]
  },
  {
   "cell_type": "code",
   "execution_count": 3,
   "metadata": {},
   "outputs": [],
   "source": [
    "a = 'Bon Jovi is an American rock band formed in 1983 in Sayreville, New Jersey. \\\n",
    "It consists of singer Jon Bon Jovi, keyboardist David Bryan, drummer Tico Torres, \\\n",
    "guitarist PhilX, and bassist Hugh McDonald. Previous bassist Alec John Such was \\\n",
    "dismissed in 1994, and longtime guitarist and co-songwriter Richie Sambora left in 2013.'\n",
    "\n",
    "b = \"Ronald Wilson Reagan (/ˈreɪɡən/; February 6, 1911 – June 5, 2004) \\\n",
    "was an American politician who served as the 40th president of the United \\\n",
    "States from 1981 to 1989. Prior to his presidency, he was a Hollywood actor \\\n",
    "and union leader before serving as the 33rd governor of California from 1967 to 1975.\""
   ]
  },
  {
   "cell_type": "code",
   "execution_count": null,
   "metadata": {},
   "outputs": [],
   "source": [
    "# There is no need to run this chunk of code.\n",
    "ex1(a,b)"
   ]
  },
  {
   "cell_type": "markdown",
   "metadata": {},
   "source": [
    "***Problem 13:*** Write a program to calculate the sum of the digits of a number  until it is a single-digit number (Example: **199** -> 1+9+9=**19** -> 1+9=**10** -> 1+0=**1**). Let the program print the result of each step (the bolded numbers in the example). Run the program for 289, 1011, 3333."
   ]
  },
  {
   "cell_type": "code",
   "execution_count": 82,
   "metadata": {},
   "outputs": [
    {
     "name": "stdout",
     "output_type": "stream",
     "text": [
      "19\n",
      "10\n",
      "1\n",
      "3\n",
      "12\n",
      "3\n"
     ]
    }
   ],
   "source": [
    "###_____________Start code here_________________###\n",
    "\n",
    "\n",
    "def sum(num):\n",
    "    a=str(num)\n",
    "    i=0\n",
    "    x=0\n",
    "    \n",
    "    while(i<len(a)):\n",
    "        b=int(a[i])\n",
    "        x+=b\n",
    "        i+=1\n",
    "    print(x)\n",
    "        \n",
    "    if x>9:\n",
    "        return(sum(x))\n",
    "    else:\n",
    "        return(None)\n",
    "    \n",
    "sum(289),\n",
    "sum(1011),\n",
    "sum(3333)\n",
    "    \n",
    "        \n",
    "###_____________End code here_________________###"
   ]
  },
  {
   "cell_type": "code",
   "execution_count": null,
   "metadata": {},
   "outputs": [],
   "source": [
    "# There is no need to run this chunk of code.\n",
    "ex13(289)\n",
    "ex13(1011)\n",
    "ex13(3333)"
   ]
  },
  {
   "cell_type": "markdown",
   "metadata": {},
   "source": [
    "***Problem 14:*** Write a program to print a chess board where **\"X\"s** are black squares and **\"O\"s** are white ones. Hint: you can use \"end\" parameter of print() function to print on the same line and separate the outputs of different prints by space or any character you want. More on this topic here: https://www.geeksforgeeks.org/gfact-50-python-end-parameter-in-print/.\n",
    "<br>The output should be like this:\n",
    "<img src=\"chess.jpg\" style=\"width: 200px;\">"
   ]
  },
  {
   "cell_type": "code",
   "execution_count": 2,
   "metadata": {},
   "outputs": [
    {
     "name": "stdout",
     "output_type": "stream",
     "text": [
      " O X O X O X O X\n",
      " X O X O X O X O\n",
      " O X O X O X O X\n",
      " X O X O X O X O\n",
      " O X O X O X O X\n",
      " X O X O X O X O\n",
      " O X O X O X O X\n",
      " X O X O X O X O\n"
     ]
    }
   ],
   "source": [
    "###_____________Start code here_________________###\n",
    "\n",
    "x=0\n",
    "while x<4:\n",
    "    i=0\n",
    "    a=''\n",
    "    b=''\n",
    "    while i<4:\n",
    "        a+=' O'+ ' X'\n",
    "        b+=' X'+ ' O'\n",
    "        i+=1\n",
    "    print(a)\n",
    "    print(b)\n",
    "    \n",
    "    x+=1\n",
    "    \n",
    "    \n",
    "    \n",
    "\n",
    "\n",
    "###_____________End code here_________________###"
   ]
  },
  {
   "cell_type": "code",
   "execution_count": null,
   "metadata": {},
   "outputs": [],
   "source": [
    "# There is no need to run this chunk of code.\n",
    "ex14()"
   ]
  },
  {
   "cell_type": "markdown",
   "metadata": {},
   "source": [
    "***Problem 15:*** Write a program to reverse the digits of a given integer without using any built-in function or slicing. (**Example**: 12345 to 54321). Run the program for 4815162342."
   ]
  },
  {
   "cell_type": "code",
   "execution_count": 16,
   "metadata": {},
   "outputs": [
    {
     "name": "stdout",
     "output_type": "stream",
     "text": [
      "2432615184\n"
     ]
    }
   ],
   "source": [
    "###_____________Start code here_________________###\n",
    "def func(num):\n",
    "    a=str(num)\n",
    "    i=len(a)-1\n",
    "    \n",
    "    b=0\n",
    "    \n",
    "    while i>=0:\n",
    "        c=int(a[i])\n",
    "        b=b*10 + c\n",
    "        i-=1\n",
    "    print(b)\n",
    "       \n",
    "        \n",
    "        \n",
    "    \n",
    "func(4815162342)    \n",
    "   \n",
    "\n",
    "###_____________End code here_________________###"
   ]
  },
  {
   "cell_type": "code",
   "execution_count": null,
   "metadata": {},
   "outputs": [],
   "source": [
    "# There is no need to run this chunk of code.\n",
    "ex15(4815162342)"
   ]
  },
  {
   "cell_type": "markdown",
   "metadata": {},
   "source": [
    "***Problem 17:*** Write a function that will find all numbers between A and B (inclusive) such that each digit of the number is even. For example foo(20,26) returns [22,24,26]. Call the function for A=40 and B=140. 0 is even number."
   ]
  },
  {
   "cell_type": "code",
   "execution_count": 32,
   "metadata": {},
   "outputs": [
    {
     "name": "stdout",
     "output_type": "stream",
     "text": [
      "[40, 42, 44, 46, 48, 60, 62, 64, 66, 68, 80, 82, 84, 86, 88]\n"
     ]
    }
   ],
   "source": [
    "###_____________Start code here_________________###\n",
    "list = []\n",
    "def foo(A,B):\n",
    "        for a in range(A,B+1):\n",
    "            if int(str(a)[0])%2==0 and int(str(a)[1])%2==0:\n",
    "                list.append(a)\n",
    "        print(list)\n",
    "    \n",
    "            \n",
    "            \n",
    "foo(40,140)            \n",
    "\n",
    "\n",
    "###_____________End code here_________________###"
   ]
  },
  {
   "cell_type": "code",
   "execution_count": null,
   "metadata": {},
   "outputs": [],
   "source": [
    "# There is no need to run this chunk of code.\n",
    "ex17(40,140)"
   ]
  },
  {
   "cell_type": "markdown",
   "metadata": {},
   "source": [
    "***Problem 18:*** On basic cell phones numeric keypad is used to write a message. Write a function to output the numerical sequence of the keys to be pressed for any message. For instance, numerical sequence for typing \"P\" will be 7 and for \"I\" 444. Another example, the sequence for \"hello\" will be 4433555555666. Make the input text uppercase before converting to numerical sequence. Call the function for the following input **\"HI DEAR! I WILL BE LATE TODAY.\"**\n",
    "\n",
    "| Key | Symbols |\n",
    "|----|----|\n",
    "|1|. , ? ! :|\n",
    "|2|A B C|\n",
    "|3|D E F|\n",
    "|4|G H I|\n",
    "|5|J K L|\n",
    "|6|M N O|\n",
    "|7|P Q R S|\n",
    "|8|T U V|\n",
    "|9|W X Y Z|\n",
    "|0| space |\n"
   ]
  },
  {
   "cell_type": "code",
   "execution_count": 6,
   "metadata": {},
   "outputs": [
    {
     "name": "stdout",
     "output_type": "stream",
     "text": [
      "44444033327771111044409444555555022330555283308666329991\n"
     ]
    }
   ],
   "source": [
    "###_____________Start code here_________________###\n",
    "\n",
    "def func(list1):\n",
    "    dictt={0:[' '],1:['.',',','?','!',':'],2:['A','B','C'],3:['D','E','F'],4:['G','H','I'],5:['J','K','L'],6:['M','N','O'],7:['P','Q','R','S'],8:['T','U','V'],9:['W','X','Y','Z']}\n",
    "    list1=list1.upper()\n",
    "    new_list=[]\n",
    "    str1=''\n",
    "    for i in list(list1):\n",
    "        for j in dictt:\n",
    "            for k in dictt[j]:\n",
    "                if k==i:\n",
    "                    index=dictt[j].index(k)+1\n",
    "                    \n",
    "                    while index>0:\n",
    "                        str1=str1+str(j)\n",
    "                        index-=1\n",
    "                else:\n",
    "                    continue\n",
    "    return str1\n",
    "print(func(\"HI DEAR! I WILL BE LATE TODAY.\"))\n",
    "\n",
    "\n",
    "        \n",
    "\n",
    "###_____________End code here_________________###"
   ]
  },
  {
   "cell_type": "code",
   "execution_count": null,
   "metadata": {},
   "outputs": [],
   "source": [
    "# There is no need to run this chunk of code.\n",
    "print(ex18(\"HI DEAR! I WILL BE LATE TODAY.\"))"
   ]
  },
  {
   "cell_type": "markdown",
   "metadata": {},
   "source": [
    "***Problem 20:*** Write a program that accepts a sentence and prints the number of letters and digits in it. Run the program for \"1, 2, 3, 4... Let's run the code!\" "
   ]
  },
  {
   "cell_type": "code",
   "execution_count": 54,
   "metadata": {},
   "outputs": [
    {
     "name": "stdout",
     "output_type": "stream",
     "text": [
      "14\n",
      "4\n"
     ]
    }
   ],
   "source": [
    "###_____________Start code here_________________###\n",
    "def func(str):\n",
    "    length = len(str)\n",
    "    digits = 0\n",
    "    letters = 0\n",
    "    \n",
    "    for i in str:\n",
    "        if i.isalpha():\n",
    "            letters += 1\n",
    "        elif i.isnumeric():\n",
    "            digits += 1\n",
    "    print(letters)\n",
    "    print(digits)\n",
    "       \n",
    "func(\"1, 2, 3, 4... Let's run the code!\")\n",
    "\n",
    "###_____________End code here_________________###"
   ]
  },
  {
   "cell_type": "code",
   "execution_count": null,
   "metadata": {},
   "outputs": [],
   "source": [
    "# There is no need to run this chunk of code.\n",
    "ex20(\"1, 2, 3, 4... Let's run the code!\")"
   ]
  },
  {
   "cell_type": "markdown",
   "metadata": {},
   "source": [
    "***Problem 22:*** Two people throw two six-sided fair dices each. The one with greater sum wins, and if the sum is equal, they draw. Write a program that simulates the game and plays 100 time. Print the number of wins of Player 1, Player 2 and draws."
   ]
  },
  {
   "cell_type": "code",
   "execution_count": 62,
   "metadata": {},
   "outputs": [
    {
     "name": "stdout",
     "output_type": "stream",
     "text": [
      "wins of Player1:48\n",
      "wins of Player2:37\n",
      "draws:15\n"
     ]
    }
   ],
   "source": [
    "###_____________Start code here_________________###\n",
    "import random\n",
    "dice1=[1,2,3,4,5,6]\n",
    "dice2=[1,2,3,4,5,6]\n",
    "a=0\n",
    "b=0\n",
    "c=0\n",
    "for i in range(0,100):\n",
    "    player1sum=random.choice(dice1)+random.choice(dice2)\n",
    "    player2sum=random.choice(dice1)+random.choice(dice2)\n",
    "    if player1sum>player2sum:\n",
    "        a+=1\n",
    "    elif player1sum<player2sum:\n",
    "        b+=1\n",
    "    else:\n",
    "        c+=1\n",
    "        \n",
    "print('wins of Player1:'+str(a))\n",
    "print('wins of Player2:'+str(b))\n",
    "print('draws:'+str(c))\n",
    "\n",
    "###_____________End code here_________________###"
   ]
  },
  {
   "cell_type": "code",
   "execution_count": null,
   "metadata": {},
   "outputs": [],
   "source": [
    "# There is no need to run this chunk of code.\n",
    "ex22()"
   ]
  },
  {
   "cell_type": "markdown",
   "metadata": {},
   "source": [
    "***Problem 23:*** Write a program that randomly generates a nine-character password. First 3 characters must be from the set \"let\", second 3 characters from the set \"num\", last three ones from the set \"sym\". Set seed() to 42 and generate a password."
   ]
  },
  {
   "cell_type": "code",
   "execution_count": 20,
   "metadata": {},
   "outputs": [],
   "source": [
    "let = {'A','B','C','a','b','c'}\n",
    "num = {1,2,3,4,5,6}\n",
    "sym = {'!','@','#','$','%','^'}"
   ]
  },
  {
   "cell_type": "code",
   "execution_count": 77,
   "metadata": {},
   "outputs": [
    {
     "name": "stdout",
     "output_type": "stream",
     "text": [
      "abb632!!@\n"
     ]
    }
   ],
   "source": [
    "###_____________Start code here_________________###\n",
    "let = {'A','B','C','a','b','c'}\n",
    "num = {1,2,3,4,5,6}\n",
    "sym = {'!','@','#','$','%','^'}\n",
    "import random\n",
    "random.seed(42)\n",
    "print(random.choice(tuple(let))+random.choice(tuple(let))+random.choice(tuple(let))+str(random.choice(tuple(num)))+str(random.choice(tuple(num)))+str(random.choice(tuple(num)))+random.choice(tuple(sym))+random.choice(tuple(sym))+random.choice(tuple(sym)))\n",
    "\n",
    "\n",
    "###_____________End code here_________________###"
   ]
  },
  {
   "cell_type": "code",
   "execution_count": 73,
   "metadata": {},
   "outputs": [
    {
     "ename": "NameError",
     "evalue": "name 'ex23' is not defined",
     "output_type": "error",
     "traceback": [
      "\u001b[1;31m---------------------------------------------------------------------------\u001b[0m",
      "\u001b[1;31mNameError\u001b[0m                                 Traceback (most recent call last)",
      "\u001b[1;32m<ipython-input-73-dbd7f09aa0f8>\u001b[0m in \u001b[0;36m<module>\u001b[1;34m\u001b[0m\n\u001b[0;32m      1\u001b[0m \u001b[1;31m# There is no need to run this chunk of code.\u001b[0m\u001b[1;33m\u001b[0m\u001b[1;33m\u001b[0m\u001b[1;33m\u001b[0m\u001b[0m\n\u001b[1;32m----> 2\u001b[1;33m \u001b[0mex23\u001b[0m\u001b[1;33m(\u001b[0m\u001b[1;33m)\u001b[0m\u001b[1;33m\u001b[0m\u001b[1;33m\u001b[0m\u001b[0m\n\u001b[0m",
      "\u001b[1;31mNameError\u001b[0m: name 'ex23' is not defined"
     ]
    }
   ],
   "source": [
    "# There is no need to run this chunk of code.\n",
    "ex23()"
   ]
  },
  {
   "cell_type": "markdown",
   "metadata": {},
   "source": [
    "\n",
    "***Problem 24:*** Write a program to find all the numbers divisible by 6 but not a multiple of 5 between 100 and 500 (inclusive). Print the numbers as a comma-separated string."
   ]
  },
  {
   "cell_type": "code",
   "execution_count": 16,
   "metadata": {
    "scrolled": true
   },
   "outputs": [
    {
     "name": "stdout",
     "output_type": "stream",
     "text": [
      "102,108,114,126,132,138,144,156,162,168,174,186,192,198,204,216,222,228,234,246,252,258,264,276,282,288,294,306,312,318,324,336,342,348,354,366,372,378,384,396,402,408,414,426,432,438,444,456,462,468,474,486,492,498,the end\n"
     ]
    }
   ],
   "source": [
    "###_____________Start code here_________________###\n",
    "\n",
    "for i in range(100,501):\n",
    "    if i%6==0 and i%5!=0:\n",
    "        print(i, end=',')\n",
    "print('the end')        \n",
    "        \n",
    "\n",
    "\n",
    "\n",
    "###_____________End code here_________________###"
   ]
  },
  {
   "cell_type": "code",
   "execution_count": 83,
   "metadata": {},
   "outputs": [
    {
     "ename": "NameError",
     "evalue": "name 'ex24' is not defined",
     "output_type": "error",
     "traceback": [
      "\u001b[1;31m---------------------------------------------------------------------------\u001b[0m",
      "\u001b[1;31mNameError\u001b[0m                                 Traceback (most recent call last)",
      "\u001b[1;32m<ipython-input-83-dee7108cef2c>\u001b[0m in \u001b[0;36m<module>\u001b[1;34m\u001b[0m\n\u001b[0;32m      1\u001b[0m \u001b[1;31m# There is no need to run this chunk of code.\u001b[0m\u001b[1;33m\u001b[0m\u001b[1;33m\u001b[0m\u001b[1;33m\u001b[0m\u001b[0m\n\u001b[1;32m----> 2\u001b[1;33m \u001b[0mex24\u001b[0m\u001b[1;33m(\u001b[0m\u001b[1;33m)\u001b[0m\u001b[1;33m\u001b[0m\u001b[1;33m\u001b[0m\u001b[0m\n\u001b[0m",
      "\u001b[1;31mNameError\u001b[0m: name 'ex24' is not defined"
     ]
    }
   ],
   "source": [
    "# There is no need to run this chunk of code.\n",
    "ex24()"
   ]
  },
  {
   "cell_type": "markdown",
   "metadata": {},
   "source": [
    "***Example 25:*** Write a program that converts \"firstname lastname\" to \"lastname, firstname\", using list comprehensions."
   ]
  },
  {
   "cell_type": "code",
   "execution_count": 106,
   "metadata": {},
   "outputs": [],
   "source": [
    "ls = ['Հրաչյա Վարդանյան', 'Անուշ Կարապետյան', 'Գոռ Անտոնյան', 'Տաթեւ Հարությունյան', 'Mary Sargsyan']\n"
   ]
  },
  {
   "cell_type": "code",
   "execution_count": 105,
   "metadata": {},
   "outputs": [
    {
     "name": "stdout",
     "output_type": "stream",
     "text": [
      "['Վարդանյան,Հրաչյա', 'Կարապետյան,Անուշ', 'Անտոնյան,Գոռ', 'Հարությունյան,Տաթեւ', 'Sargsyan,Mary']\n"
     ]
    }
   ],
   "source": [
    "###_____________Start code here_________________###\n",
    "ls = ['Հրաչյա Վարդանյան', 'Անուշ Կարապետյան', 'Գոռ Անտոնյան', 'Տաթեւ Հարությունյան', 'Mary Sargsyan']\n",
    "new_ls = []\n",
    "for i in range(len(ls)):\n",
    "    a=ls[i].split()\n",
    "    b=a[1]+','+a[0]\n",
    "    new_ls.append(b)\n",
    "print(new_ls)    \n",
    "    \n",
    "\n",
    "\n",
    "###_____________End code here_________________###"
   ]
  },
  {
   "cell_type": "code",
   "execution_count": null,
   "metadata": {},
   "outputs": [],
   "source": [
    "# There is no need to run this chunk of code.\n",
    "ex25(ls)"
   ]
  },
  {
   "cell_type": "markdown",
   "metadata": {},
   "source": [
    "***Problem 27:*** Write a function to devide an input list of ages between 0 and 70 into 4 groups.<br><br>\n",
    "Baby Boomers  - (50 to 70 years old]<br>\n",
    "Generation X - (34 to 50 years old]<br>\n",
    "Generation Y - (18 to 34 years old]<br>\n",
    "Generation Z - [0 to 18 years old]<br>\n",
    "\n",
    "Return a dictionary with the following structure:\n",
    "{'Group 1':[ages],'Group 2':[ages],'Group 3':[ages],'Group 4':[ages]}"
   ]
  },
  {
   "cell_type": "code",
   "execution_count": 116,
   "metadata": {},
   "outputs": [
    {
     "name": "stdout",
     "output_type": "stream",
     "text": [
      "{'Baby Boomers': [69, 58, 52, 65], 'Generation X': [], 'Generation Y': [29, 23, 24], 'Generation Z': [18, 3, 14, 10, 1, 5]}\n"
     ]
    }
   ],
   "source": [
    "ls = [18,29,3,14,69,10,1,58,52,23,24,5,65]\n",
    "###_____________Start code here_________________###\n",
    "def func(listt):\n",
    "    a=[]\n",
    "    b=[]\n",
    "    c=[]\n",
    "    d=[]\n",
    "    dict1 = {'Baby Boomers': a,'Generation X' : b,'Generation Y' : c,'Generation Z':d}\n",
    "\n",
    "    for i in range(len(listt)):\n",
    "        if listt[i]>=0 and listt[i]<=18:\n",
    "            d.append(listt[i])\n",
    "        elif listt[i]>18 and listt[i]<=34:\n",
    "            c.append(listt[i])\n",
    "        elif listt[i]>34 and listt[i]<=50:\n",
    "            b.append(listt[i])\n",
    "        elif listt[i]>50 and listt[i]<=70:\n",
    "            a.append(listt[i])\n",
    "    print(dict1)  \n",
    "    \n",
    "func(ls)            \n",
    "    \n",
    "\n",
    "\n",
    "###_____________End code here_________________###"
   ]
  },
  {
   "cell_type": "code",
   "execution_count": null,
   "metadata": {},
   "outputs": [],
   "source": [
    "# There is no need to run this chunk of code.\n",
    "ex27(ls)"
   ]
  }
 ],
 "metadata": {
  "kernelspec": {
   "display_name": "Python 3",
   "language": "python",
   "name": "python3"
  },
  "language_info": {
   "codemirror_mode": {
    "name": "ipython",
    "version": 3
   },
   "file_extension": ".py",
   "mimetype": "text/x-python",
   "name": "python",
   "nbconvert_exporter": "python",
   "pygments_lexer": "ipython3",
   "version": "3.7.1"
  }
 },
 "nbformat": 4,
 "nbformat_minor": 2
}
